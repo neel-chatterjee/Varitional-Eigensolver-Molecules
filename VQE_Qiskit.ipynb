{
  "nbformat": 4,
  "nbformat_minor": 0,
  "metadata": {
    "colab": {
      "name": "VQE_Qiskit",
      "provenance": [],
      "collapsed_sections": []
    },
    "kernelspec": {
      "name": "python3",
      "display_name": "Python 3"
    }
  },
  "cells": [
    {
      "cell_type": "code",
      "metadata": {
        "id": "aR7c9QA6hB0n"
      },
      "source": [
        "!pip install pyscf"
      ],
      "execution_count": null,
      "outputs": []
    },
    {
      "cell_type": "code",
      "metadata": {
        "id": "0nTtfCMehDV6"
      },
      "source": [
        "!pip install qiskit"
      ],
      "execution_count": null,
      "outputs": []
    },
    {
      "cell_type": "code",
      "metadata": {
        "id": "lzJshYUChJbD"
      },
      "source": [
        "import numpy as np\r\n",
        "import pylab\r\n",
        "import copy\r\n",
        "from qiskit import BasicAer\r\n",
        "from qiskit.aqua import aqua_globals, QuantumInstance\r\n",
        "from qiskit.aqua.algorithms import NumPyMinimumEigensolver, VQE\r\n",
        "from qiskit.aqua.components.optimizers import SLSQP\r\n",
        "from qiskit.chemistry.components.initial_states import HartreeFock\r\n",
        "from qiskit.chemistry.components.variational_forms import UCCSD #ansatz\r\n",
        "from qiskit.chemistry.drivers import PySCFDriver\r\n",
        "from qiskit.chemistry.core import Hamiltonian, QubitMappingType # for mapping"
      ],
      "execution_count": 3,
      "outputs": []
    },
    {
      "cell_type": "code",
      "metadata": {
        "id": "t_-cTL3HiVA7"
      },
      "source": [
        "molecule = 'H .0 .0 -{0}; Li .0 .0 {0}' \r\n",
        "distances = np.arange(0.5,4.25,0.25)\r\n",
        "vqe_energies = []\r\n",
        "hf_energies = [] # initial guess from Hartree-Fock\r\n",
        "exact_energies = []"
      ],
      "execution_count": 8,
      "outputs": []
    },
    {
      "cell_type": "code",
      "metadata": {
        "id": "UHV6bo2kioDq"
      },
      "source": [
        "for i,d in enumerate(distances):\r\n",
        "  print('step',i)\r\n",
        "\r\n",
        "  # set up experiment\r\n",
        "\r\n",
        "  driver = PySCFDriver(molecule.format(d/2), basis = 'sto3g')\r\n",
        "  qmolecule = driver.run()\r\n",
        "  operator = Hamiltonian(qubit_mapping=QubitMappingType.PARITY,\r\n",
        "                         two_qubit_reduction=True, \r\n",
        "                         freeze_core=True,\r\n",
        "                         orbital_reduction=[-3,-2])\r\n",
        "  qubit_op, aux_ops = operator.run(qmolecule)\r\n",
        "\r\n",
        "  # exact classical result\r\n",
        "\r\n",
        "  exact_result = NumPyMinimumEigensolver(qubit_op, aux_operators=aux_ops).run()\r\n",
        "  exact_result = operator.process_algorithm_result(exact_result)\r\n",
        "\r\n",
        "  # VQE\r\n",
        "  optimizer = SLSQP(maxiter=1000)\r\n",
        "  initial_state = HartreeFock(operator.molecule_info['num_orbitals'],\r\n",
        "                              operator.molecule_info['num_particles'],\r\n",
        "                              qubit_mapping=operator._qubit_mapping,\r\n",
        "                              two_qubit_reduction=operator._two_qubit_reduction)\r\n",
        "  \r\n",
        "  var_form = UCCSD(num_orbitals=operator.molecule_info['num_orbitals'],\r\n",
        "                   num_particles=operator.molecule_info['num_particles'],\r\n",
        "                   initial_state=initial_state,\r\n",
        "                   qubit_mapping=operator._qubit_mapping,\r\n",
        "                   two_qubit_reduction=operator._two_qubit_reduction)\r\n",
        "  \r\n",
        "  algo=VQE(qubit_op, var_form, optimizer, aux_operators=aux_ops)\r\n",
        "\r\n",
        "  vqe_result=algo.run(QuantumInstance(BasicAer.get_backend('statevector_simulator')))\r\n",
        "  vqe_result=operator.process_algorithm_result(vqe_result)\r\n",
        "\r\n",
        "  exact_energies.append(exact_result.energy)\r\n",
        "  vqe_energies.append(vqe_result.energy)\r\n",
        "  hf_energies.append(vqe_result.hartree_fock_energy)"
      ],
      "execution_count": null,
      "outputs": []
    },
    {
      "cell_type": "code",
      "metadata": {
        "colab": {
          "base_uri": "https://localhost:8080/",
          "height": 312
        },
        "id": "2U6YJA_u_V7K",
        "outputId": "2b8f22b9-dc9c-444e-e91a-c57ab4f5bcb9"
      },
      "source": [
        " pylab.plot(distances,hf_energies, label='Hartree_Fock')\r\n",
        " pylab.plot(distances, vqe_energies, 'o', label='VQE')\r\n",
        " pylab.plot(distances, exact_energies, '^', label='Exact')\r\n",
        "\r\n",
        " pylab.xlabel('Interatomic Distance')\r\n",
        " pylab.ylabel('Energy')\r\n",
        " pylab.title('LiH Ground State Energy')\r\n",
        " pylab.legend()"
      ],
      "execution_count": 19,
      "outputs": [
        {
          "output_type": "execute_result",
          "data": {
            "text/plain": [
              "<matplotlib.legend.Legend at 0x7fe7505187b8>"
            ]
          },
          "metadata": {
            "tags": []
          },
          "execution_count": 19
        },
        {
          "output_type": "display_data",
          "data": {
            "image/png": "[encoded data removed]",
            "text/plain": [
              "<Figure size 432x288 with 1 Axes>"
            ]
          },
          "metadata": {
            "tags": [],
            "needs_background": "light"
          }
        }
      ]
    },
    {
      "cell_type": "code",
      "metadata": {
        "id": "sH21GEELEQCs"
      },
      "source": [
        ""
      ],
      "execution_count": null,
      "outputs": []
    }
  ]
}